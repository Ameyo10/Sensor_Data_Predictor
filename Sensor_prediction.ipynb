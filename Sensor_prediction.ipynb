{
 "cells": [
  {
   "cell_type": "markdown",
   "id": "b2109127",
   "metadata": {},
   "source": [
    "# Human Activity Recognition Using Smartphones Dataset"
   ]
  },
  {
   "cell_type": "markdown",
   "id": "16f1ba42",
   "metadata": {},
   "source": [
    "Jorge L. Reyes-Ortiz(1,2), Davide Anguita(1), Alessandro Ghio(1), Luca Oneto(1) and Xavier Parra(2)\n",
    "1 - Smartlab - Non-Linear Complex Systems Laboratory\n",
    "DITEN - Università  degli Studi di Genova, Genoa (I-16145), Italy. \n",
    "2 - CETpD - Technical Research Centre for Dependency Care and Autonomous Living\n",
    "Universitat Politècnica de Catalunya (BarcelonaTech). Vilanova i la Geltrú (08800), Spain\n",
    "activityrecognition '@' smartlab.ws \n"
   ]
  },
  {
   "cell_type": "markdown",
   "id": "beb665c7",
   "metadata": {},
   "source": [
    "The experiments have been carried out with a group of 30 volunteers within an age bracket of 19-48 years. Each person performed six activities (WALKING, WALKING_UPSTAIRS, WALKING_DOWNSTAIRS, SITTING, STANDING, LAYING) wearing a smartphone (Samsung Galaxy S II) on the waist. Using its embedded accelerometer and gyroscope, we captured 3-axial linear acceleration and 3-axial angular velocity at a constant rate of 50Hz. The experiments have been video-recorded to label the data manually. The obtained dataset has been randomly partitioned into two sets, where 70% of the volunteers was selected for generating the training data and 30% the test data. \n",
    "\n",
    "The sensor signals (accelerometer and gyroscope) were pre-processed by applying noise filters and then sampled in fixed-width sliding windows of 2.56 sec and 50% overlap (128 readings/window). The sensor acceleration signal, which has gravitational and body motion components, was separated using a Butterworth low-pass filter into body acceleration and gravity. The gravitational force is assumed to have only low frequency components, therefore a filter with 0.3 Hz cutoff frequency was used. From each window, a vector of features was obtained by calculating variables from the time and frequency domain. See 'features_info.txt' for more details. \n",
    "\n",
    "For each record it is provided:\n",
    "======================================\n",
    "\n",
    "- Triaxial acceleration from the accelerometer (total acceleration) and the estimated body acceleration.\n",
    "- Triaxial Angular velocity from the gyroscope. \n",
    "- A 561-feature vector with time and frequency domain variables. \n",
    "- Its activity label. \n",
    "- An identifier of the subject who carried out the experiment."
   ]
  },
  {
   "cell_type": "markdown",
   "id": "e0db0816",
   "metadata": {},
   "source": [
    "License:\n",
    "========\n",
    "Use of this dataset in publications must be acknowledged by referencing the following publication [1] \n",
    "\n",
    "[1] Davide Anguita, Alessandro Ghio, Luca Oneto, Xavier Parra and Jorge L. Reyes-Ortiz. A Public Domain Dataset for Human Activity Recognition Using Smartphones. 21th European Symposium on Artificial Neural Networks, Computational Intelligence and Machine Learning, ESANN 2013. Bruges, Belgium 24-26 April 2013. \n",
    "\n",
    "This dataset is distributed AS-IS and no responsibility implied or explicit can be addressed to the authors or their institutions for its use or misuse. Any commercial use is prohibited.\n",
    "\n"
   ]
  },
  {
   "cell_type": "markdown",
   "id": "158ca79f",
   "metadata": {},
   "source": [
    "### Importing Important Libraries"
   ]
  },
  {
   "cell_type": "code",
   "execution_count": 249,
   "id": "be9268cf",
   "metadata": {},
   "outputs": [],
   "source": [
    "# !pip install -q torchmetrics -U mlxtend"
   ]
  },
  {
   "cell_type": "code",
   "execution_count": 250,
   "id": "deddd18e",
   "metadata": {},
   "outputs": [],
   "source": [
    "import torch\n",
    "from torch import nn\n",
    "from pathlib import Path\n",
    "import random\n",
    "import os\n",
    "import numpy as np\n",
    "import pandas as pd\n",
    "from torch.utils.data import DataLoader, Dataset\n",
    "from tqdm.auto import tqdm\n",
    "from timeit import default_timer as timer\n",
    "from sklearn.preprocessing import StandardScaler\n",
    "import matplotlib.pyplot as plt\n",
    "from sklearn.metrics import confusion_matrix, ConfusionMatrixDisplay\n"
   ]
  },
  {
   "cell_type": "markdown",
   "id": "b1ffe7d1",
   "metadata": {},
   "source": [
    "### Setting up the Device"
   ]
  },
  {
   "cell_type": "code",
   "execution_count": 251,
   "id": "e9530614",
   "metadata": {},
   "outputs": [
    {
     "data": {
      "text/plain": [
       "True"
      ]
     },
     "execution_count": 251,
     "metadata": {},
     "output_type": "execute_result"
    }
   ],
   "source": [
    "torch.cuda.is_available()"
   ]
  },
  {
   "cell_type": "code",
   "execution_count": 252,
   "id": "24550db1",
   "metadata": {},
   "outputs": [
    {
     "name": "stdout",
     "output_type": "stream",
     "text": [
      "Using device: cuda\n"
     ]
    }
   ],
   "source": [
    "device = \"cuda\" if torch.cuda.is_available() else 'cpu'\n",
    "print(f'Using device: {device}')"
   ]
  },
  {
   "cell_type": "markdown",
   "id": "4211f79e",
   "metadata": {},
   "source": [
    "### Getting some Data"
   ]
  },
  {
   "cell_type": "code",
   "execution_count": 253,
   "id": "5e40d0a8",
   "metadata": {},
   "outputs": [],
   "source": [
    "sensor_data_path = Path(r'F:\\Python_Projects\\Learning\\Neural_Networks\\data\\human+activity+recognition+using+smartphones\\UCI HAR Dataset\\UCI HAR Dataset')"
   ]
  },
  {
   "cell_type": "code",
   "execution_count": 254,
   "id": "b0b5414a",
   "metadata": {},
   "outputs": [
    {
     "data": {
      "text/plain": [
       "[WindowsPath('F:/Python_Projects/Learning/Neural_Networks/data/human+activity+recognition+using+smartphones/UCI HAR Dataset/UCI HAR Dataset/test/subject_test.txt'),\n",
       " WindowsPath('F:/Python_Projects/Learning/Neural_Networks/data/human+activity+recognition+using+smartphones/UCI HAR Dataset/UCI HAR Dataset/test/X_test.txt'),\n",
       " WindowsPath('F:/Python_Projects/Learning/Neural_Networks/data/human+activity+recognition+using+smartphones/UCI HAR Dataset/UCI HAR Dataset/test/y_test.txt'),\n",
       " WindowsPath('F:/Python_Projects/Learning/Neural_Networks/data/human+activity+recognition+using+smartphones/UCI HAR Dataset/UCI HAR Dataset/train/subject_train.txt'),\n",
       " WindowsPath('F:/Python_Projects/Learning/Neural_Networks/data/human+activity+recognition+using+smartphones/UCI HAR Dataset/UCI HAR Dataset/train/X_train.txt'),\n",
       " WindowsPath('F:/Python_Projects/Learning/Neural_Networks/data/human+activity+recognition+using+smartphones/UCI HAR Dataset/UCI HAR Dataset/train/y_train.txt')]"
      ]
     },
     "execution_count": 254,
     "metadata": {},
     "output_type": "execute_result"
    }
   ],
   "source": [
    "txt_list = list(sensor_data_path.glob('*/*.txt'))\n",
    "txt_list"
   ]
  },
  {
   "cell_type": "code",
   "execution_count": 255,
   "id": "711870d8",
   "metadata": {},
   "outputs": [
    {
     "name": "stderr",
     "output_type": "stream",
     "text": [
      "C:\\Users\\SUBHO\\AppData\\Local\\Temp\\ipykernel_37872\\1007515285.py:1: FutureWarning: The 'delim_whitespace' keyword in pd.read_csv is deprecated and will be removed in a future version. Use ``sep='\\s+'`` instead\n",
      "  x_train = pd.read_csv(sensor_data_path / 'train' / 'X_train.txt', delim_whitespace=True, header=None)\n",
      "C:\\Users\\SUBHO\\AppData\\Local\\Temp\\ipykernel_37872\\1007515285.py:2: FutureWarning: The 'delim_whitespace' keyword in pd.read_csv is deprecated and will be removed in a future version. Use ``sep='\\s+'`` instead\n",
      "  y_train = pd.read_csv(sensor_data_path / 'train' / 'y_train.txt', delim_whitespace=True, header=None)\n",
      "C:\\Users\\SUBHO\\AppData\\Local\\Temp\\ipykernel_37872\\1007515285.py:3: FutureWarning: The 'delim_whitespace' keyword in pd.read_csv is deprecated and will be removed in a future version. Use ``sep='\\s+'`` instead\n",
      "  x_test = pd.read_csv(sensor_data_path / 'test' / 'X_test.txt', delim_whitespace=True, header=None)\n",
      "C:\\Users\\SUBHO\\AppData\\Local\\Temp\\ipykernel_37872\\1007515285.py:4: FutureWarning: The 'delim_whitespace' keyword in pd.read_csv is deprecated and will be removed in a future version. Use ``sep='\\s+'`` instead\n",
      "  y_test = pd.read_csv(sensor_data_path / 'test' / 'y_test.txt', delim_whitespace=True, header=None)\n"
     ]
    },
    {
     "data": {
      "text/plain": [
       "((7352, 561), (7352, 1), (2947, 561), (2947, 1))"
      ]
     },
     "execution_count": 255,
     "metadata": {},
     "output_type": "execute_result"
    }
   ],
   "source": [
    "x_train = pd.read_csv(sensor_data_path / 'train' / 'X_train.txt', delim_whitespace=True, header=None)\n",
    "y_train = pd.read_csv(sensor_data_path / 'train' / 'y_train.txt', delim_whitespace=True, header=None)\n",
    "x_test = pd.read_csv(sensor_data_path / 'test' / 'X_test.txt', delim_whitespace=True, header=None)\n",
    "y_test = pd.read_csv(sensor_data_path / 'test' / 'y_test.txt', delim_whitespace=True, header=None)\n",
    "x_train.shape, y_train.shape, x_test.shape, y_test.shape"
   ]
  },
  {
   "cell_type": "markdown",
   "id": "b176c3e9",
   "metadata": {},
   "source": [
    "### Creating a Custom \"Dataset\""
   ]
  },
  {
   "cell_type": "code",
   "execution_count": 256,
   "id": "da0e43da",
   "metadata": {},
   "outputs": [],
   "source": [
    "class Sensor_Dataset(Dataset):\n",
    "    def __init__(self, target_dir):\n",
    "        target_dir = Path(target_dir)\n",
    "\n",
    "        scaler = StandardScaler()\n",
    "\n",
    "        x_file = next(target_dir.glob(\"X*.txt\"))\n",
    "        y_file = next(target_dir.glob(\"y*.txt\"))\n",
    "\n",
    "        # load once (pandas -> numpy)\n",
    "        x_np = pd.read_csv(x_file, delim_whitespace=True, header=None).to_numpy(dtype=np.float32)\n",
    "        y_np = pd.read_csv(y_file, delim_whitespace=True, header=None).to_numpy(dtype=np.int64)\n",
    "\n",
    "        # ensure shapes & contiguity\n",
    "        y_np = y_np.reshape(-1)        # (N,1) -> (N,)\n",
    "        x_np = np.ascontiguousarray(x_np)\n",
    "        y_np = np.ascontiguousarray(y_np)\n",
    "        x_np = scaler.fit_transform(x_np)\n",
    "\n",
    "        # convert to tensors (CPU)\n",
    "        self.x_data = torch.from_numpy(x_np)        # dtype=torch.float32\n",
    "        self.y_data = torch.from_numpy(y_np)        # dtype=torch.int64\n",
    "\n",
    "    def __len__(self):\n",
    "        return len(self.x_data)\n",
    "\n",
    "    def __getitem__(self, idx):\n",
    "        return self.x_data[idx], self.y_data[idx]"
   ]
  },
  {
   "cell_type": "code",
   "execution_count": 257,
   "id": "a08646eb",
   "metadata": {},
   "outputs": [],
   "source": [
    "train_dir = sensor_data_path / 'train'\n",
    "test_dir = sensor_data_path / 'test'"
   ]
  },
  {
   "cell_type": "code",
   "execution_count": 258,
   "id": "f4cd9e96",
   "metadata": {},
   "outputs": [
    {
     "name": "stderr",
     "output_type": "stream",
     "text": [
      "C:\\Users\\SUBHO\\AppData\\Local\\Temp\\ipykernel_37872\\420188455.py:11: FutureWarning: The 'delim_whitespace' keyword in pd.read_csv is deprecated and will be removed in a future version. Use ``sep='\\s+'`` instead\n",
      "  x_np = pd.read_csv(x_file, delim_whitespace=True, header=None).to_numpy(dtype=np.float32)\n",
      "C:\\Users\\SUBHO\\AppData\\Local\\Temp\\ipykernel_37872\\420188455.py:12: FutureWarning: The 'delim_whitespace' keyword in pd.read_csv is deprecated and will be removed in a future version. Use ``sep='\\s+'`` instead\n",
      "  y_np = pd.read_csv(y_file, delim_whitespace=True, header=None).to_numpy(dtype=np.int64)\n",
      "C:\\Users\\SUBHO\\AppData\\Local\\Temp\\ipykernel_37872\\420188455.py:11: FutureWarning: The 'delim_whitespace' keyword in pd.read_csv is deprecated and will be removed in a future version. Use ``sep='\\s+'`` instead\n",
      "  x_np = pd.read_csv(x_file, delim_whitespace=True, header=None).to_numpy(dtype=np.float32)\n",
      "C:\\Users\\SUBHO\\AppData\\Local\\Temp\\ipykernel_37872\\420188455.py:12: FutureWarning: The 'delim_whitespace' keyword in pd.read_csv is deprecated and will be removed in a future version. Use ``sep='\\s+'`` instead\n",
      "  y_np = pd.read_csv(y_file, delim_whitespace=True, header=None).to_numpy(dtype=np.int64)\n"
     ]
    }
   ],
   "source": [
    "train_data = Sensor_Dataset(train_dir)\n",
    "test_data = Sensor_Dataset(test_dir)"
   ]
  },
  {
   "cell_type": "code",
   "execution_count": 259,
   "id": "e8f9588d",
   "metadata": {},
   "outputs": [
    {
     "data": {
      "text/plain": [
       "(<__main__.Sensor_Dataset at 0x20a6a3dfa50>,\n",
       " <__main__.Sensor_Dataset at 0x20a6fb16bd0>)"
      ]
     },
     "execution_count": 259,
     "metadata": {},
     "output_type": "execute_result"
    }
   ],
   "source": [
    "train_data, test_data"
   ]
  },
  {
   "cell_type": "markdown",
   "id": "f23f8048",
   "metadata": {},
   "source": [
    "### Dividing the Data into batches using DataLoader"
   ]
  },
  {
   "cell_type": "code",
   "execution_count": 260,
   "id": "e31b3c2a",
   "metadata": {},
   "outputs": [],
   "source": [
    "train_dataloader = DataLoader(train_data, batch_size=32, num_workers=0,shuffle=True)\n",
    "test_dataloader = DataLoader(test_data, batch_size=32, num_workers=0,shuffle=False)"
   ]
  },
  {
   "cell_type": "code",
   "execution_count": 261,
   "id": "5cf2cffd",
   "metadata": {},
   "outputs": [
    {
     "data": {
      "text/plain": [
       "(<torch.utils.data.dataloader.DataLoader at 0x20a6fb3e010>,\n",
       " <torch.utils.data.dataloader.DataLoader at 0x20a6fb0dc90>)"
      ]
     },
     "execution_count": 261,
     "metadata": {},
     "output_type": "execute_result"
    }
   ],
   "source": [
    "train_dataloader, test_dataloader"
   ]
  },
  {
   "cell_type": "markdown",
   "id": "aefe5926",
   "metadata": {},
   "source": [
    "### Creating the Model"
   ]
  },
  {
   "cell_type": "code",
   "execution_count": 262,
   "id": "43075fd2",
   "metadata": {},
   "outputs": [],
   "source": [
    "class Sequence_Identifier(nn.Module):\n",
    "    def __init__(self,\n",
    "                 input_shape: int,\n",
    "                 cnn_hidden: int,\n",
    "                 rnn_hidden: int,\n",
    "                 rnn_layer: int,\n",
    "                 output_shape:int):\n",
    "        super().__init__()\n",
    "        self.dropout = nn.Dropout(p=0.45)\n",
    "        self.conv_block_1 = nn.Sequential(\n",
    "            nn.Conv1d(in_channels=input_shape,\n",
    "                      out_channels=cnn_hidden*2,\n",
    "                      kernel_size=3,\n",
    "                      stride=1,\n",
    "                      padding=1),\n",
    "            nn.ReLU(),\n",
    "            nn.Conv1d(in_channels=cnn_hidden*2,\n",
    "                      out_channels=cnn_hidden,\n",
    "                      kernel_size=3,\n",
    "                      stride = 1,\n",
    "                      padding =1),\n",
    "            nn.ReLU(),\n",
    "            nn.MaxPool1d(kernel_size=2,\n",
    "                         stride=1))\n",
    "        self.rnn = nn.GRU(\n",
    "            input_size = cnn_hidden,\n",
    "            hidden_size = rnn_hidden,\n",
    "            batch_first = True,\n",
    "            num_layers= rnn_layer,\n",
    "            bidirectional= True,\n",
    "            dropout= 0.3)\n",
    "        self.fc = nn.Linear(rnn_hidden *2, output_shape)\n",
    "\n",
    "    def forward(self,x):\n",
    "        x = x.unsqueeze(1) #Conv1d expects (batch, channels, length)\n",
    "        x = self.conv_block_1(x)\n",
    "        x = self.dropout(x)\n",
    "        \n",
    "        x = x.permute(0,2,1 )   # (batch, new_len, cnn_hidden)\n",
    "        out, _ = self.rnn(x)\n",
    "        out = self.dropout(out)\n",
    "        out = out[:,-1,:]       # Use last time step\n",
    "        out = self.fc(out)      # [batch, num_classes]\n",
    "        return out"
   ]
  },
  {
   "cell_type": "markdown",
   "id": "1fc70e42",
   "metadata": {},
   "source": [
    "### Creating training and testing loop functions"
   ]
  },
  {
   "cell_type": "code",
   "execution_count": 263,
   "id": "f479257c",
   "metadata": {},
   "outputs": [],
   "source": [
    "def train_step(model: nn.Module,\n",
    "               dataloader: torch.utils.data.DataLoader, \n",
    "               loss_fn: nn.Module,\n",
    "               optimizer: torch.optim.Optimizer,\n",
    "               device: str = 'cpu'):\n",
    "    model.train()\n",
    "    train_loss = 0.0\n",
    "    train_acc = 0.0\n",
    "\n",
    "    for batch, (x,y) in enumerate(dataloader):\n",
    "        x,y = x.to(device) , y.to(device)\n",
    "        y = y-1\n",
    "        y= y.long()\n",
    "        \n",
    "\n",
    "        y_pred = model(x)\n",
    "        \n",
    "        loss = loss_fn(y_pred,y)\n",
    "        train_loss += loss.item()\n",
    "\n",
    "        optimizer.zero_grad()\n",
    "        loss.backward()\n",
    "        optimizer.step()\n",
    "\n",
    "        y_pred_class = torch.argmax(torch.softmax(y_pred, dim=1), dim=1)\n",
    "        # print(f'Value predicted on training data {y_pred_class}')\n",
    "        train_acc += (y_pred_class == y).sum().item() / len(y_pred)\n",
    "\n",
    "    train_loss = train_loss / len(dataloader)\n",
    "    train_acc = (train_acc / len(dataloader))\n",
    "\n",
    "    return train_loss, train_acc"
   ]
  },
  {
   "cell_type": "code",
   "execution_count": 264,
   "id": "ed437a17",
   "metadata": {},
   "outputs": [],
   "source": [
    "def test_step(model: torch.nn.Module,\n",
    "              dataloader: torch.utils.data.DataLoader,\n",
    "              loss_fn: nn.Module,\n",
    "              device: str = 'cpu'):\n",
    "    y_found = []\n",
    "    model.eval()\n",
    "    test_loss = 0.0\n",
    "    test_acc = 0.0\n",
    "\n",
    "    with torch.inference_mode():\n",
    "        for batch, (x,y) in enumerate(dataloader):\n",
    "            x,y = x.to(device), y.to(device)\n",
    "            y = y-1\n",
    "            y = y.long()\n",
    "            \n",
    "            y_pred = model(x)\n",
    "            \n",
    "\n",
    "            loss = loss_fn(y_pred,y)\n",
    "            test_loss += loss.item()\n",
    "\n",
    "            y_pred_class = torch.argmax(torch.softmax(y_pred, dim=1), dim=1)\n",
    "            # print(f'Value predicted on testing data {y_pred_class}')\n",
    "            test_acc += (y_pred_class == y).sum().item() / len(y_pred)\n",
    "            y_found.append(y_pred_class)\n",
    "\n",
    "    test_loss = test_loss / len(dataloader)\n",
    "    test_acc = (test_acc / len(dataloader))\n",
    "    return test_loss, test_acc,y_found"
   ]
  },
  {
   "cell_type": "markdown",
   "id": "aca064e6",
   "metadata": {},
   "source": [
    "### Creating a train function to combine train_step() and test-step()"
   ]
  },
  {
   "cell_type": "code",
   "execution_count": 265,
   "id": "55cbba52",
   "metadata": {},
   "outputs": [],
   "source": [
    "def train(model: torch.nn.Module,\n",
    "          train_dataloader: torch.utils.data.DataLoader,\n",
    "          test_dataloader: torch.utils.data.DataLoader,\n",
    "          loss_fn: nn.Module,\n",
    "          optimizer: torch.optim.Optimizer,\n",
    "          epochs: int =5,\n",
    "          device= device):\n",
    "    results = {\n",
    "        \"train_loss\": [],\n",
    "        \"train_acc\": [],\n",
    "        \"test_loss\": [],\n",
    "        \"test_acc\": [],\n",
    "        \"y_preds\": []\n",
    "    }\n",
    "    for epoch in tqdm(range(epochs), desc=\"Training Epochs\"):\n",
    "\n",
    "        train_loss, train_acc = train_step(model = model,\n",
    "                                           dataloader = train_dataloader,\n",
    "                                           loss_fn=loss_fn,\n",
    "                                           optimizer = optimizer,\n",
    "                                           device= device)\n",
    "        \n",
    "        test_loss, test_acc, y_preds = test_step(model=model,\n",
    "                                        dataloader=test_dataloader,\n",
    "                                        loss_fn=loss_fn,\n",
    "                                        device=device)\n",
    "        print(f' Epoch: {epoch+1}/{epochs},\\n'\n",
    "              f\"Train loss: {train_loss:.4f}, Train acc: {train_acc*100:.4f}\\n\"\n",
    "              f\"Test loss: {test_loss:.4f}, Test acc: {test_acc*100:.4f}\")\n",
    "        \n",
    "        results['train_loss'].append(train_loss)\n",
    "        results['train_acc'].append(train_acc)\n",
    "        results['test_loss'].append(test_loss)\n",
    "        results['test_acc'].append(test_acc)\n",
    "        results['y_preds'] = y_preds\n",
    "\n",
    "    return results\n"
   ]
  },
  {
   "cell_type": "markdown",
   "id": "d9902f16",
   "metadata": {},
   "source": [
    "### Training and Evaluating Model"
   ]
  },
  {
   "cell_type": "code",
   "execution_count": 266,
   "id": "c08f28c3",
   "metadata": {},
   "outputs": [
    {
     "name": "stderr",
     "output_type": "stream",
     "text": [
      "Training Epochs:   0%|          | 0/50 [00:00<?, ?it/s]"
     ]
    },
    {
     "name": "stderr",
     "output_type": "stream",
     "text": [
      "Training Epochs:   2%|▏         | 1/50 [00:04<03:55,  4.80s/it]"
     ]
    },
    {
     "name": "stdout",
     "output_type": "stream",
     "text": [
      " Epoch: 1/50,\n",
      "Train loss: 0.9192, Train acc: 61.0326\n",
      "Test loss: 0.6267, Test acc: 70.3741\n"
     ]
    },
    {
     "name": "stderr",
     "output_type": "stream",
     "text": [
      "Training Epochs:   4%|▍         | 2/50 [00:09<03:40,  4.60s/it]"
     ]
    },
    {
     "name": "stdout",
     "output_type": "stream",
     "text": [
      " Epoch: 2/50,\n",
      "Train loss: 0.5737, Train acc: 73.6957\n",
      "Test loss: 0.5995, Test acc: 71.9870\n"
     ]
    },
    {
     "name": "stderr",
     "output_type": "stream",
     "text": [
      "Training Epochs:   6%|▌         | 3/50 [00:13<03:32,  4.51s/it]"
     ]
    },
    {
     "name": "stdout",
     "output_type": "stream",
     "text": [
      " Epoch: 3/50,\n",
      "Train loss: 0.5514, Train acc: 75.4348\n",
      "Test loss: 0.5961, Test acc: 71.9534\n"
     ]
    },
    {
     "name": "stderr",
     "output_type": "stream",
     "text": [
      "Training Epochs:   8%|▊         | 4/50 [00:18<03:25,  4.48s/it]"
     ]
    },
    {
     "name": "stdout",
     "output_type": "stream",
     "text": [
      " Epoch: 4/50,\n",
      "Train loss: 0.5258, Train acc: 76.4900\n",
      "Test loss: 0.5895, Test acc: 73.2415\n"
     ]
    },
    {
     "name": "stderr",
     "output_type": "stream",
     "text": [
      "Training Epochs:  10%|█         | 5/50 [00:22<03:20,  4.45s/it]"
     ]
    },
    {
     "name": "stdout",
     "output_type": "stream",
     "text": [
      " Epoch: 5/50,\n",
      "Train loss: 0.5217, Train acc: 76.9475\n",
      "Test loss: 0.5744, Test acc: 74.5968\n"
     ]
    },
    {
     "name": "stderr",
     "output_type": "stream",
     "text": [
      "Training Epochs:  12%|█▏        | 6/50 [00:26<03:15,  4.44s/it]"
     ]
    },
    {
     "name": "stdout",
     "output_type": "stream",
     "text": [
      " Epoch: 6/50,\n",
      "Train loss: 0.5086, Train acc: 77.0969\n",
      "Test loss: 0.5807, Test acc: 74.6304\n"
     ]
    },
    {
     "name": "stderr",
     "output_type": "stream",
     "text": [
      "Training Epochs:  14%|█▍        | 7/50 [00:31<03:10,  4.43s/it]"
     ]
    },
    {
     "name": "stdout",
     "output_type": "stream",
     "text": [
      " Epoch: 7/50,\n",
      "Train loss: 0.5032, Train acc: 78.1250\n",
      "Test loss: 0.5523, Test acc: 75.4256\n"
     ]
    },
    {
     "name": "stderr",
     "output_type": "stream",
     "text": [
      "Training Epochs:  16%|█▌        | 8/50 [00:35<03:06,  4.43s/it]"
     ]
    },
    {
     "name": "stdout",
     "output_type": "stream",
     "text": [
      " Epoch: 8/50,\n",
      "Train loss: 0.5039, Train acc: 77.7446\n",
      "Test loss: 0.6064, Test acc: 69.7581\n"
     ]
    },
    {
     "name": "stderr",
     "output_type": "stream",
     "text": [
      "Training Epochs:  18%|█▊        | 9/50 [00:40<03:01,  4.43s/it]"
     ]
    },
    {
     "name": "stdout",
     "output_type": "stream",
     "text": [
      " Epoch: 9/50,\n",
      "Train loss: 0.4907, Train acc: 79.0217\n",
      "Test loss: 0.5491, Test acc: 74.4624\n"
     ]
    },
    {
     "name": "stderr",
     "output_type": "stream",
     "text": [
      "Training Epochs:  20%|██        | 10/50 [00:44<02:57,  4.44s/it]"
     ]
    },
    {
     "name": "stdout",
     "output_type": "stream",
     "text": [
      " Epoch: 10/50,\n",
      "Train loss: 0.4999, Train acc: 78.4013\n",
      "Test loss: 0.5356, Test acc: 77.3185\n"
     ]
    },
    {
     "name": "stderr",
     "output_type": "stream",
     "text": [
      "Training Epochs:  22%|██▏       | 11/50 [00:49<02:52,  4.44s/it]"
     ]
    },
    {
     "name": "stdout",
     "output_type": "stream",
     "text": [
      " Epoch: 11/50,\n",
      "Train loss: 0.4770, Train acc: 79.7871\n",
      "Test loss: 0.5468, Test acc: 76.8817\n"
     ]
    },
    {
     "name": "stderr",
     "output_type": "stream",
     "text": [
      "Training Epochs:  24%|██▍       | 12/50 [00:53<02:48,  4.43s/it]"
     ]
    },
    {
     "name": "stdout",
     "output_type": "stream",
     "text": [
      " Epoch: 12/50,\n",
      "Train loss: 0.4636, Train acc: 80.6386\n",
      "Test loss: 0.5421, Test acc: 76.2769\n"
     ]
    },
    {
     "name": "stderr",
     "output_type": "stream",
     "text": [
      "Training Epochs:  26%|██▌       | 13/50 [00:57<02:44,  4.44s/it]"
     ]
    },
    {
     "name": "stdout",
     "output_type": "stream",
     "text": [
      " Epoch: 13/50,\n",
      "Train loss: 0.4549, Train acc: 81.5806\n",
      "Test loss: 0.5421, Test acc: 77.5538\n"
     ]
    },
    {
     "name": "stderr",
     "output_type": "stream",
     "text": [
      "Training Epochs:  28%|██▊       | 14/50 [01:02<02:39,  4.44s/it]"
     ]
    },
    {
     "name": "stdout",
     "output_type": "stream",
     "text": [
      " Epoch: 14/50,\n",
      "Train loss: 0.4642, Train acc: 80.8967\n",
      "Test loss: 0.5263, Test acc: 77.7218\n"
     ]
    },
    {
     "name": "stderr",
     "output_type": "stream",
     "text": [
      "Training Epochs:  30%|███       | 15/50 [01:06<02:36,  4.46s/it]"
     ]
    },
    {
     "name": "stdout",
     "output_type": "stream",
     "text": [
      " Epoch: 15/50,\n",
      "Train loss: 0.4399, Train acc: 81.9973\n",
      "Test loss: 0.5655, Test acc: 76.0417\n"
     ]
    },
    {
     "name": "stderr",
     "output_type": "stream",
     "text": [
      "Training Epochs:  32%|███▏      | 16/50 [01:11<02:31,  4.46s/it]"
     ]
    },
    {
     "name": "stdout",
     "output_type": "stream",
     "text": [
      " Epoch: 16/50,\n",
      "Train loss: 0.4375, Train acc: 82.6087\n",
      "Test loss: 0.5234, Test acc: 79.0771\n"
     ]
    },
    {
     "name": "stderr",
     "output_type": "stream",
     "text": [
      "Training Epochs:  34%|███▍      | 17/50 [01:15<02:27,  4.47s/it]"
     ]
    },
    {
     "name": "stdout",
     "output_type": "stream",
     "text": [
      " Epoch: 17/50,\n",
      "Train loss: 0.4393, Train acc: 81.8116\n",
      "Test loss: 0.6044, Test acc: 74.6976\n"
     ]
    },
    {
     "name": "stderr",
     "output_type": "stream",
     "text": [
      "Training Epochs:  36%|███▌      | 18/50 [01:20<02:23,  4.48s/it]"
     ]
    },
    {
     "name": "stdout",
     "output_type": "stream",
     "text": [
      " Epoch: 18/50,\n",
      "Train loss: 0.4369, Train acc: 82.4819\n",
      "Test loss: 0.4916, Test acc: 79.7267\n"
     ]
    },
    {
     "name": "stderr",
     "output_type": "stream",
     "text": [
      "Training Epochs:  38%|███▊      | 19/50 [01:24<02:18,  4.48s/it]"
     ]
    },
    {
     "name": "stdout",
     "output_type": "stream",
     "text": [
      " Epoch: 19/50,\n",
      "Train loss: 0.4189, Train acc: 82.7944\n",
      "Test loss: 0.5326, Test acc: 77.5090\n"
     ]
    },
    {
     "name": "stderr",
     "output_type": "stream",
     "text": [
      "Training Epochs:  40%|████      | 20/50 [01:29<02:14,  4.48s/it]"
     ]
    },
    {
     "name": "stdout",
     "output_type": "stream",
     "text": [
      " Epoch: 20/50,\n",
      "Train loss: 0.4113, Train acc: 83.5870\n",
      "Test loss: 0.5125, Test acc: 78.5618\n"
     ]
    },
    {
     "name": "stderr",
     "output_type": "stream",
     "text": [
      "Training Epochs:  42%|████▏     | 21/50 [01:33<02:09,  4.46s/it]"
     ]
    },
    {
     "name": "stdout",
     "output_type": "stream",
     "text": [
      " Epoch: 21/50,\n",
      "Train loss: 0.4057, Train acc: 84.1350\n",
      "Test loss: 0.5077, Test acc: 79.4579\n"
     ]
    },
    {
     "name": "stderr",
     "output_type": "stream",
     "text": [
      "Training Epochs:  44%|████▍     | 22/50 [01:38<02:04,  4.46s/it]"
     ]
    },
    {
     "name": "stdout",
     "output_type": "stream",
     "text": [
      " Epoch: 22/50,\n",
      "Train loss: 0.4126, Train acc: 83.9447\n",
      "Test loss: 0.5225, Test acc: 78.5842\n"
     ]
    },
    {
     "name": "stderr",
     "output_type": "stream",
     "text": [
      "Training Epochs:  46%|████▌     | 23/50 [01:42<02:00,  4.45s/it]"
     ]
    },
    {
     "name": "stdout",
     "output_type": "stream",
     "text": [
      " Epoch: 23/50,\n",
      "Train loss: 0.3908, Train acc: 84.6966\n",
      "Test loss: 0.5327, Test acc: 78.9203\n"
     ]
    },
    {
     "name": "stderr",
     "output_type": "stream",
     "text": [
      "Training Epochs:  48%|████▊     | 24/50 [01:47<01:55,  4.45s/it]"
     ]
    },
    {
     "name": "stdout",
     "output_type": "stream",
     "text": [
      " Epoch: 24/50,\n",
      "Train loss: 0.4064, Train acc: 84.1078\n",
      "Test loss: 0.5305, Test acc: 77.9234\n"
     ]
    },
    {
     "name": "stderr",
     "output_type": "stream",
     "text": [
      "Training Epochs:  50%|█████     | 25/50 [01:51<01:51,  4.47s/it]"
     ]
    },
    {
     "name": "stdout",
     "output_type": "stream",
     "text": [
      " Epoch: 25/50,\n",
      "Train loss: 0.3977, Train acc: 84.4067\n",
      "Test loss: 0.5865, Test acc: 78.3042\n"
     ]
    },
    {
     "name": "stderr",
     "output_type": "stream",
     "text": [
      "Training Epochs:  52%|█████▏    | 26/50 [01:56<01:48,  4.50s/it]"
     ]
    },
    {
     "name": "stdout",
     "output_type": "stream",
     "text": [
      " Epoch: 26/50,\n",
      "Train loss: 0.4271, Train acc: 83.6594\n",
      "Test loss: 0.5291, Test acc: 78.2594\n"
     ]
    },
    {
     "name": "stderr",
     "output_type": "stream",
     "text": [
      "Training Epochs:  54%|█████▍    | 27/50 [02:00<01:43,  4.51s/it]"
     ]
    },
    {
     "name": "stdout",
     "output_type": "stream",
     "text": [
      " Epoch: 27/50,\n",
      "Train loss: 0.3934, Train acc: 84.5063\n",
      "Test loss: 0.5644, Test acc: 76.2097\n"
     ]
    },
    {
     "name": "stderr",
     "output_type": "stream",
     "text": [
      "Training Epochs:  56%|█████▌    | 28/50 [02:05<01:39,  4.52s/it]"
     ]
    },
    {
     "name": "stdout",
     "output_type": "stream",
     "text": [
      " Epoch: 28/50,\n",
      "Train loss: 0.3940, Train acc: 84.1259\n",
      "Test loss: 0.5339, Test acc: 77.5874\n"
     ]
    },
    {
     "name": "stderr",
     "output_type": "stream",
     "text": [
      "Training Epochs:  58%|█████▊    | 29/50 [02:09<01:34,  4.51s/it]"
     ]
    },
    {
     "name": "stdout",
     "output_type": "stream",
     "text": [
      " Epoch: 29/50,\n",
      "Train loss: 0.3864, Train acc: 84.8370\n",
      "Test loss: 0.5153, Test acc: 78.9315\n"
     ]
    },
    {
     "name": "stderr",
     "output_type": "stream",
     "text": [
      "Training Epochs:  60%|██████    | 30/50 [02:14<01:30,  4.51s/it]"
     ]
    },
    {
     "name": "stdout",
     "output_type": "stream",
     "text": [
      " Epoch: 30/50,\n",
      "Train loss: 0.3989, Train acc: 83.9176\n",
      "Test loss: 0.5546, Test acc: 76.9489\n"
     ]
    },
    {
     "name": "stderr",
     "output_type": "stream",
     "text": [
      "Training Epochs:  62%|██████▏   | 31/50 [02:18<01:25,  4.52s/it]"
     ]
    },
    {
     "name": "stdout",
     "output_type": "stream",
     "text": [
      " Epoch: 31/50,\n",
      "Train loss: 0.3950, Train acc: 84.4837\n",
      "Test loss: 0.5185, Test acc: 78.7522\n"
     ]
    },
    {
     "name": "stderr",
     "output_type": "stream",
     "text": [
      "Training Epochs:  64%|██████▍   | 32/50 [02:23<01:21,  4.53s/it]"
     ]
    },
    {
     "name": "stdout",
     "output_type": "stream",
     "text": [
      " Epoch: 32/50,\n",
      "Train loss: 0.3955, Train acc: 84.1757\n",
      "Test loss: 0.5345, Test acc: 78.2258\n"
     ]
    },
    {
     "name": "stderr",
     "output_type": "stream",
     "text": [
      "Training Epochs:  66%|██████▌   | 33/50 [02:27<01:16,  4.53s/it]"
     ]
    },
    {
     "name": "stdout",
     "output_type": "stream",
     "text": [
      " Epoch: 33/50,\n",
      "Train loss: 0.3906, Train acc: 84.6830\n",
      "Test loss: 0.5665, Test acc: 77.6098\n"
     ]
    },
    {
     "name": "stderr",
     "output_type": "stream",
     "text": [
      "Training Epochs:  68%|██████▊   | 34/50 [02:32<01:12,  4.51s/it]"
     ]
    },
    {
     "name": "stdout",
     "output_type": "stream",
     "text": [
      " Epoch: 34/50,\n",
      "Train loss: 0.3844, Train acc: 84.7464\n",
      "Test loss: 0.5460, Test acc: 77.3522\n"
     ]
    },
    {
     "name": "stderr",
     "output_type": "stream",
     "text": [
      "Training Epochs:  70%|███████   | 35/50 [02:36<01:07,  4.49s/it]"
     ]
    },
    {
     "name": "stdout",
     "output_type": "stream",
     "text": [
      " Epoch: 35/50,\n",
      "Train loss: 0.3816, Train acc: 85.2264\n",
      "Test loss: 0.5006, Test acc: 78.9987\n"
     ]
    },
    {
     "name": "stderr",
     "output_type": "stream",
     "text": [
      "Training Epochs:  72%|███████▏  | 36/50 [02:41<01:02,  4.47s/it]"
     ]
    },
    {
     "name": "stdout",
     "output_type": "stream",
     "text": [
      " Epoch: 36/50,\n",
      "Train loss: 0.3923, Train acc: 84.7781\n",
      "Test loss: 0.5149, Test acc: 78.4946\n"
     ]
    },
    {
     "name": "stderr",
     "output_type": "stream",
     "text": [
      "Training Epochs:  74%|███████▍  | 37/50 [02:45<00:57,  4.46s/it]"
     ]
    },
    {
     "name": "stdout",
     "output_type": "stream",
     "text": [
      " Epoch: 37/50,\n",
      "Train loss: 0.3811, Train acc: 85.2355\n",
      "Test loss: 0.5113, Test acc: 78.9315\n"
     ]
    },
    {
     "name": "stderr",
     "output_type": "stream",
     "text": [
      "Training Epochs:  76%|███████▌  | 38/50 [02:50<00:53,  4.45s/it]"
     ]
    },
    {
     "name": "stdout",
     "output_type": "stream",
     "text": [
      " Epoch: 38/50,\n",
      "Train loss: 0.3685, Train acc: 85.1359\n",
      "Test loss: 0.5606, Test acc: 77.4194\n"
     ]
    },
    {
     "name": "stderr",
     "output_type": "stream",
     "text": [
      "Training Epochs:  78%|███████▊  | 39/50 [02:54<00:48,  4.44s/it]"
     ]
    },
    {
     "name": "stdout",
     "output_type": "stream",
     "text": [
      " Epoch: 39/50,\n",
      "Train loss: 0.3858, Train acc: 84.7101\n",
      "Test loss: 0.4895, Test acc: 79.8947\n"
     ]
    },
    {
     "name": "stderr",
     "output_type": "stream",
     "text": [
      "Training Epochs:  80%|████████  | 40/50 [02:58<00:44,  4.44s/it]"
     ]
    },
    {
     "name": "stdout",
     "output_type": "stream",
     "text": [
      " Epoch: 40/50,\n",
      "Train loss: 0.3850, Train acc: 85.0136\n",
      "Test loss: 0.5415, Test acc: 77.5538\n"
     ]
    },
    {
     "name": "stderr",
     "output_type": "stream",
     "text": [
      "Training Epochs:  82%|████████▏ | 41/50 [03:03<00:39,  4.43s/it]"
     ]
    },
    {
     "name": "stdout",
     "output_type": "stream",
     "text": [
      " Epoch: 41/50,\n",
      "Train loss: 0.3791, Train acc: 84.6332\n",
      "Test loss: 0.5090, Test acc: 79.3683\n"
     ]
    },
    {
     "name": "stderr",
     "output_type": "stream",
     "text": [
      "Training Epochs:  84%|████████▍ | 42/50 [03:07<00:35,  4.43s/it]"
     ]
    },
    {
     "name": "stdout",
     "output_type": "stream",
     "text": [
      " Epoch: 42/50,\n",
      "Train loss: 0.3805, Train acc: 84.7917\n",
      "Test loss: 0.5241, Test acc: 77.7890\n"
     ]
    },
    {
     "name": "stderr",
     "output_type": "stream",
     "text": [
      "Training Epochs:  86%|████████▌ | 43/50 [03:12<00:30,  4.42s/it]"
     ]
    },
    {
     "name": "stdout",
     "output_type": "stream",
     "text": [
      " Epoch: 43/50,\n",
      "Train loss: 0.3804, Train acc: 85.3034\n",
      "Test loss: 0.5255, Test acc: 79.1667\n"
     ]
    },
    {
     "name": "stderr",
     "output_type": "stream",
     "text": [
      "Training Epochs:  88%|████████▊ | 44/50 [03:16<00:26,  4.42s/it]"
     ]
    },
    {
     "name": "stdout",
     "output_type": "stream",
     "text": [
      " Epoch: 44/50,\n",
      "Train loss: 0.3816, Train acc: 85.3442\n",
      "Test loss: 0.5469, Test acc: 78.1586\n"
     ]
    },
    {
     "name": "stderr",
     "output_type": "stream",
     "text": [
      "Training Epochs:  90%|█████████ | 45/50 [03:20<00:22,  4.42s/it]"
     ]
    },
    {
     "name": "stdout",
     "output_type": "stream",
     "text": [
      " Epoch: 45/50,\n",
      "Train loss: 0.3811, Train acc: 85.1042\n",
      "Test loss: 0.5246, Test acc: 78.9315\n"
     ]
    },
    {
     "name": "stderr",
     "output_type": "stream",
     "text": [
      "Training Epochs:  92%|█████████▏| 46/50 [03:25<00:17,  4.45s/it]"
     ]
    },
    {
     "name": "stdout",
     "output_type": "stream",
     "text": [
      " Epoch: 46/50,\n",
      "Train loss: 0.3679, Train acc: 85.5797\n",
      "Test loss: 0.4996, Test acc: 79.9955\n"
     ]
    },
    {
     "name": "stderr",
     "output_type": "stream",
     "text": [
      "Training Epochs:  94%|█████████▍| 47/50 [03:30<00:13,  4.48s/it]"
     ]
    },
    {
     "name": "stdout",
     "output_type": "stream",
     "text": [
      " Epoch: 47/50,\n",
      "Train loss: 0.3775, Train acc: 85.1087\n",
      "Test loss: 0.5220, Test acc: 78.2930\n"
     ]
    },
    {
     "name": "stderr",
     "output_type": "stream",
     "text": [
      "Training Epochs:  96%|█████████▌| 48/50 [03:34<00:09,  4.51s/it]"
     ]
    },
    {
     "name": "stdout",
     "output_type": "stream",
     "text": [
      " Epoch: 48/50,\n",
      "Train loss: 0.3691, Train acc: 85.4257\n",
      "Test loss: 0.5249, Test acc: 78.5282\n"
     ]
    },
    {
     "name": "stderr",
     "output_type": "stream",
     "text": [
      "Training Epochs:  98%|█████████▊| 49/50 [03:39<00:04,  4.52s/it]"
     ]
    },
    {
     "name": "stdout",
     "output_type": "stream",
     "text": [
      " Epoch: 49/50,\n",
      "Train loss: 0.3799, Train acc: 85.0679\n",
      "Test loss: 0.5108, Test acc: 78.9315\n"
     ]
    },
    {
     "name": "stderr",
     "output_type": "stream",
     "text": [
      "Training Epochs: 100%|██████████| 50/50 [03:43<00:00,  4.47s/it]"
     ]
    },
    {
     "name": "stdout",
     "output_type": "stream",
     "text": [
      " Epoch: 50/50,\n",
      "Train loss: 0.3817, Train acc: 85.1630\n",
      "Test loss: 0.4983, Test acc: 79.5027\n",
      "Total training time: 223.68 seconds\n"
     ]
    },
    {
     "name": "stderr",
     "output_type": "stream",
     "text": [
      "\n"
     ]
    }
   ],
   "source": [
    "torch.cuda.manual_seed(36)\n",
    "\n",
    "NUM_EPOCHS = 50\n",
    "\n",
    "model = Sequence_Identifier(\n",
    "    input_shape = 1,\n",
    "    cnn_hidden = 64,\n",
    "    rnn_hidden = 64,\n",
    "    rnn_layer = 2,\n",
    "    output_shape = 6    \n",
    ").to(device)\n",
    "\n",
    "loss_fn = nn.CrossEntropyLoss()\n",
    "optimizer = torch.optim.Adam(params=model.parameters(), lr=0.001, weight_decay=1e-2)\n",
    "\n",
    "start_time = timer()\n",
    "\n",
    "model_results = train(model = model,\n",
    "                      train_dataloader=train_dataloader,\n",
    "                      test_dataloader=test_dataloader,\n",
    "                      loss_fn=loss_fn,\n",
    "                      optimizer=optimizer,\n",
    "                      epochs=NUM_EPOCHS,\n",
    "                      device='cuda')\n",
    "\n",
    "end_time = timer()\n",
    "\n",
    "total_training_time = end_time - start_time\n",
    "print(f\"Total training time: {total_training_time:.2f} seconds\")"
   ]
  },
  {
   "cell_type": "markdown",
   "id": "6e0e042a",
   "metadata": {},
   "source": [
    "### Creating function to plot loss curves"
   ]
  },
  {
   "cell_type": "code",
   "execution_count": 267,
   "id": "bd95b902",
   "metadata": {},
   "outputs": [],
   "source": [
    "def plot_loss_curves(results: dict[str,list[float]]):\n",
    "    plt.figure(figsize = (10,7))\n",
    "    plt.subplot(1,2,1)\n",
    "    plt.plot(results[\"train_acc\"], label = \"Train Accuracy\")\n",
    "    plt.plot(results[\"test_acc\"], label = \"Test Accuracy\")\n",
    "    plt.title(\"Accuracy Curves\")\n",
    "    plt.xlabel(\"Epochs\")\n",
    "    plt.ylabel(\"Accuracy\")\n",
    "    plt.legend()\n",
    "    plt.grid()\n",
    "\n",
    "    plt.subplot(1,2,2)\n",
    "    plt.plot(results[\"train_loss\"], label= \"Train Loss\")\n",
    "    plt.plot(results[\"test_loss\"], label= \"Test Loss\")\n",
    "    plt.title(\"Loss Curves\")\n",
    "    plt.xlabel(\"Epochs\")\n",
    "    plt.ylabel(\"Loss\")\n",
    "    plt.legend()\n",
    "    plt.grid()\n",
    "    plt.show()"
   ]
  },
  {
   "cell_type": "markdown",
   "id": "c3bed9e3",
   "metadata": {},
   "source": [
    "### Visualizing the results while training and testing"
   ]
  },
  {
   "cell_type": "code",
   "execution_count": 268,
   "id": "c41813d8",
   "metadata": {},
   "outputs": [
    {
     "data": {
      "image/png": "[encoded data removed]",
      "text/plain": [
       "<Figure size 1000x700 with 2 Axes>"
      ]
     },
     "metadata": {},
     "output_type": "display_data"
    }
   ],
   "source": [
    "plot_loss_curves(model_results)"
   ]
  },
  {
   "cell_type": "markdown",
   "id": "73ce2e32",
   "metadata": {},
   "source": [
    "### Saving and Loading the Model"
   ]
  },
  {
   "cell_type": "code",
   "execution_count": 269,
   "id": "7f67ee77",
   "metadata": {},
   "outputs": [
    {
     "name": "stdout",
     "output_type": "stream",
     "text": [
      "Saving model to: models\\Sensor_Data_predictor.pth\n"
     ]
    }
   ],
   "source": [
    "MODEL_PATH = Path('models')\n",
    "MODEL_PATH.mkdir(parents = True,\n",
    "                 exist_ok=True)\n",
    "MODEL_NAME = 'Sensor_Data_predictor.pth'\n",
    "MODEL_SAVE_PATH = MODEL_PATH / MODEL_NAME\n",
    "\n",
    "# Saving the model's parameters to the desired location\n",
    "print(f'Saving model to: {MODEL_SAVE_PATH}')\n",
    "torch.save(obj = model.state_dict(),\n",
    "           f = MODEL_SAVE_PATH)"
   ]
  },
  {
   "cell_type": "code",
   "execution_count": 271,
   "id": "e197e727",
   "metadata": {},
   "outputs": [
    {
     "name": "stdout",
     "output_type": "stream",
     "text": [
      "Loading Model from: models\\Sensor_Data_predictor.pth\n"
     ]
    },
    {
     "name": "stderr",
     "output_type": "stream",
     "text": [
      "C:\\Users\\SUBHO\\AppData\\Local\\Temp\\ipykernel_37872\\1371786587.py:12: FutureWarning: You are using `torch.load` with `weights_only=False` (the current default value), which uses the default pickle module implicitly. It is possible to construct malicious pickle data which will execute arbitrary code during unpickling (See https://github.com/pytorch/pytorch/blob/main/SECURITY.md#untrusted-models for more details). In a future release, the default value for `weights_only` will be flipped to `True`. This limits the functions that could be executed during unpickling. Arbitrary objects will no longer be allowed to be loaded via this mode unless they are explicitly allowlisted by the user via `torch.serialization.add_safe_globals`. We recommend you start setting `weights_only=True` for any use case where you don't have full control of the loaded file. Please open an issue on GitHub for any issues related to this experimental feature.\n",
      "  model_loaded.load_state_dict(torch.load(f=MODEL_SAVE_PATH))\n"
     ]
    },
    {
     "data": {
      "text/plain": [
       "Sequence_Identifier(\n",
       "  (dropout): Dropout(p=0.45, inplace=False)\n",
       "  (conv_block_1): Sequential(\n",
       "    (0): Conv1d(1, 128, kernel_size=(3,), stride=(1,), padding=(1,))\n",
       "    (1): ReLU()\n",
       "    (2): Conv1d(128, 64, kernel_size=(3,), stride=(1,), padding=(1,))\n",
       "    (3): ReLU()\n",
       "    (4): MaxPool1d(kernel_size=2, stride=1, padding=0, dilation=1, ceil_mode=False)\n",
       "  )\n",
       "  (rnn): GRU(64, 64, num_layers=2, batch_first=True, dropout=0.3, bidirectional=True)\n",
       "  (fc): Linear(in_features=128, out_features=6, bias=True)\n",
       ")"
      ]
     },
     "execution_count": 271,
     "metadata": {},
     "output_type": "execute_result"
    }
   ],
   "source": [
    "# Loading the Model\n",
    "torch.manual_seed(42)\n",
    "model_loaded = Sequence_Identifier(\n",
    "    input_shape = 1,\n",
    "    cnn_hidden = 64,\n",
    "    rnn_hidden = 64,\n",
    "    rnn_layer = 2,\n",
    "    output_shape = 6    \n",
    ").to(device)\n",
    "\n",
    "print(f'Loading Model from: {MODEL_SAVE_PATH}')\n",
    "model_loaded.load_state_dict(torch.load(f=MODEL_SAVE_PATH))\n",
    "\n",
    "model_loaded.to(device)"
   ]
  },
  {
   "cell_type": "code",
   "execution_count": null,
   "id": "abd43435",
   "metadata": {},
   "outputs": [],
   "source": []
  }
 ],
 "metadata": {
  "kernelspec": {
   "display_name": "venv311",
   "language": "python",
   "name": "python3"
  },
  "language_info": {
   "codemirror_mode": {
    "name": "ipython",
    "version": 3
   },
   "file_extension": ".py",
   "mimetype": "text/x-python",
   "name": "python",
   "nbconvert_exporter": "python",
   "pygments_lexer": "ipython3",
   "version": "3.11.9"
  }
 },
 "nbformat": 4,
 "nbformat_minor": 5
}
